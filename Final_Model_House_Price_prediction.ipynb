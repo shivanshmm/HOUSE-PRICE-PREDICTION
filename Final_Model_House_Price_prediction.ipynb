{
  "nbformat": 4,
  "nbformat_minor": 0,
  "metadata": {
    "colab": {
      "private_outputs": true,
      "provenance": [],
      "collapsed_sections": [
        "FJNUwmbgGyua",
        "x71ZqKXriCWQ",
        "JlHwYmJAmNHm",
        "35m5QtbWiB9F",
        "PoPl-ycgm1ru",
        "u3PMJOP6ngxN",
        "MSa1f5Uengrz",
        "K5QZ13OEpz2H",
        "lQ7QKXXCp7Bj",
        "448CDAPjqfQr",
        "t6dVpIINYklI",
        "ijmpgYnKYklI",
        "-JiQyfWJYklI",
        "fge-S5ZAYoAp",
        "85gYPyotYoAp",
        "RoGjAbkUYoAp",
        "iky9q4vBYrdO",
        "F6T5p64dYrdO",
        "y-Ehk30pYrdP",
        "QHF8YVU7Yuh3",
        "GwzvFGzlYuh3",
        "qYpmQ266Yuh3",
        "bbFf2-_FphqN",
        "_ouA3fa0phqN",
        "Seke61FWphqN",
        "t27r6nlMphqO",
        "r2jJGEOYphqO",
        "b0JNsNcRphqO",
        "jj7wYXLtphqO",
        "eZrbJ2SmphqO",
        "rFu4xreNphqO",
        "gCFgpxoyphqP",
        "OVtJsKN_phqQ",
        "lssrdh5qphqQ",
        "1M8mcRywphqQ",
        "tgIPom80phqQ",
        "JMzcOPDDphqR",
        "x-EpHcCOp1ci",
        "X_VqEhTip1ck",
        "8zGJKyg5p1ck",
        "PVzmfK_Ep1ck",
        "n3dbpmDWp1ck",
        "ylSl6qgtp1ck",
        "ZWILFDl5p1ck",
        "M7G43BXep1ck",
        "Ag9LCva-p1cl",
        "E6MkPsBcp1cl",
        "2cELzS2fp1cl",
        "3MPXvC8up1cl",
        "NC_X3p0fY2L0",
        "UV0SzAkaZNRQ",
        "YPEH6qLeZNRQ",
        "EXh0U9oCveiU",
        "-oLEiFgy-5Pf",
        "C74aWNz2AliB",
        "2DejudWSA-a0",
        "pEMng2IbBLp7",
        "rAdphbQ9Bhjc",
        "TNVZ9zx19K6k",
        "nqoHp30x9hH9",
        "rMDnDkt2B6du",
        "yiiVWRdJDDil",
        "1UUpS68QDMuG",
        "kexQrXU-DjzY",
        "TIqpNgepFxVj",
        "VfCC591jGiD4",
        "dJ2tPlVmpsJ0",
        "Fze-IPXLpx6K",
        "h_CCil-SKHpo",
        "cBFFvTBNJzUa",
        "HvGl1hHyA_VK",
        "EyNgTHvd2WFk",
        "KH5McJBi2d8v",
        "iW_Lq9qf2h6X",
        "-Kee-DAl2viO",
        "gCX9965dhzqZ",
        "gIfDvo9L0UH2"
      ]
    },
    "kernelspec": {
      "name": "python3",
      "display_name": "Python 3"
    },
    "language_info": {
      "name": "python"
    }
  },
  "cells": [
    {
      "cell_type": "markdown",
      "source": [
        "# **Project Name**   :\n",
        "##Predicting House Prices: Exploratory Data Analysis and Machine Learning Model\n",
        "\n",
        "\n"
      ],
      "metadata": {
        "id": "vncDsAP0Gaoa"
      }
    },
    {
      "cell_type": "markdown",
      "source": [
        "\n",
        "##### **Contribution**    - Team\n",
        "##### **Team Member 1 -** Shiwali Kamboj(2210992334)\n",
        "##### **Team Member 2 -** Shriya Choudhary(2210992352)\n",
        "##### **Team Member 3 -** Shivansh Makhija(2210002325)\n",
        "##### **Team Member 4 -** Shivansh Sood(2210992328)"
      ],
      "metadata": {
        "id": "beRrZCGUAJYm"
      }
    },
    {
      "cell_type": "markdown",
      "source": [
        "# **Project Summary -**\n",
        "\n",
        "The aim of this project is to develop a robust machine learning model capable of predicting house prices accurately. This involves a multi-step process, including data visualization, feature manipulation and selection, scaling, and the implementation of various machine learning algorithms such as Linear Regression, Support Vector Machines (SVM), and Decision Trees.\n"
      ],
      "metadata": {
        "id": "FJNUwmbgGyua"
      }
    },
    {
      "cell_type": "markdown",
      "source": [
        "Write the summary here within 500-600 words."
      ],
      "metadata": {
        "id": "F6v_1wHtG2nS"
      }
    },
    {
      "cell_type": "markdown",
      "source": [
        "# **Problem Statement**\n",
        "\n",
        "In the ever-changing real estate market, accurately predicting house prices is vital. This project aims to create a model that estimates house prices based on factors like location, size, and bedrooms. We'll analyze the given data to uncover patterns and relationships between features, visualize house price trends, and pinpoint important predictors. The dataset contains X rows and Y columns. Tasks include preparing the data, exploring trends, building the model, and assessing its accuracy. Deliverables include a detailed analysis report, a predictive model, performance metrics, and actionable insights."
      ],
      "metadata": {
        "id": "DpeJGUA3kjGy"
      }
    },
    {
      "cell_type": "markdown",
      "source": [
        "# ***Let's Begin !***"
      ],
      "metadata": {
        "id": "O_i_v8NEhb9l"
      }
    },
    {
      "cell_type": "markdown",
      "source": [
        "## ***1. Know Your Data***"
      ],
      "metadata": {
        "id": "HhfV-JJviCcP"
      }
    },
    {
      "cell_type": "markdown",
      "source": [
        "### Import Libraries"
      ],
      "metadata": {
        "id": "Y3lxredqlCYt"
      }
    },
    {
      "cell_type": "code",
      "source": [
        "# Import Libraries\n",
        "import pandas as pd\n",
        "import matplotlib.pyplot as plt\n",
        "import seaborn as sns\n",
        "import pandas as pd\n",
        "import numpy as np\n",
        "import seaborn as sns\n",
        "import matplotlib.pyplot as plt\n",
        "from sklearn.model_selection import train_test_split\n",
        "from sklearn.preprocessing import StandardScaler, LabelEncoder\n",
        "from sklearn.metrics import mean_absolute_error, mean_squared_error, r2_score\n",
        "from sklearn.linear_model import LinearRegression\n",
        "from sklearn.svm import SVR\n",
        "from sklearn.ensemble import RandomForestRegressor\n",
        "from sklearn.tree import DecisionTreeRegressor\n",
        "import numpy as np\n",
        "import pandas as pd\n",
        "import matplotlib.pyplot as plt\n",
        "from sklearn.model_selection import train_test_split\n",
        "from sklearn.preprocessing import MinMaxScaler\n",
        "from sklearn.linear_model import LinearRegression\n",
        "from sklearn.metrics import r2_score"
      ],
      "metadata": {
        "id": "M8Vqi-pPk-HR"
      },
      "execution_count": null,
      "outputs": []
    },
    {
      "cell_type": "markdown",
      "source": [
        "### Dataset Loading"
      ],
      "metadata": {
        "id": "3RnN4peoiCZX"
      }
    },
    {
      "cell_type": "code",
      "source": [
        "# Load Dataset\n",
        "data = pd.read_csv('/content/Housing (1).csv')"
      ],
      "metadata": {
        "id": "4CkvbW_SlZ_R"
      },
      "execution_count": null,
      "outputs": []
    },
    {
      "cell_type": "markdown",
      "source": [
        "### Dataset First View"
      ],
      "metadata": {
        "id": "x71ZqKXriCWQ"
      }
    },
    {
      "cell_type": "code",
      "source": [
        "# Dataset First Look\n",
        "data"
      ],
      "metadata": {
        "id": "LWNFOSvLl09H"
      },
      "execution_count": null,
      "outputs": []
    },
    {
      "cell_type": "code",
      "source": [
        "# Display the first few rows of the dataset\n",
        "data.head()"
      ],
      "metadata": {
        "id": "P8A8WTCQyI1V"
      },
      "execution_count": null,
      "outputs": []
    },
    {
      "cell_type": "markdown",
      "source": [
        "### Dataset Rows & Columns count"
      ],
      "metadata": {
        "id": "7hBIi_osiCS2"
      }
    },
    {
      "cell_type": "code",
      "source": [
        "# Dataset Rows & Columns count\n",
        "rows = data.shape[0]\n",
        "cols = data.shape[1]\n",
        "print(\"Rows: \", rows)\n",
        "print(\"Columns: \", cols)"
      ],
      "metadata": {
        "id": "Kllu7SJgmLij"
      },
      "execution_count": null,
      "outputs": []
    },
    {
      "cell_type": "markdown",
      "source": [
        "### Dataset Information"
      ],
      "metadata": {
        "id": "JlHwYmJAmNHm"
      }
    },
    {
      "cell_type": "code",
      "source": [
        "# Dataset Info\n",
        "data.info()"
      ],
      "metadata": {
        "id": "e9hRXRi6meOf"
      },
      "execution_count": null,
      "outputs": []
    },
    {
      "cell_type": "markdown",
      "source": [
        "#### Duplicate Values"
      ],
      "metadata": {
        "id": "35m5QtbWiB9F"
      }
    },
    {
      "cell_type": "code",
      "source": [
        "# Dataset Duplicate Value Count\n",
        "\n",
        "duplicate_count = data.duplicated().sum()\n",
        "\n",
        "# Print the count of duplicate rows\n",
        "print(\"Number of duplicate rows:\", duplicate_count)"
      ],
      "metadata": {
        "id": "1sLdpKYkmox0"
      },
      "execution_count": null,
      "outputs": []
    },
    {
      "cell_type": "markdown",
      "source": [
        "#### Missing Values/Null Values"
      ],
      "metadata": {
        "id": "PoPl-ycgm1ru"
      }
    },
    {
      "cell_type": "code",
      "source": [
        "# Missing Values/Null Values Count\n",
        "missing_values_count = data.isnull().sum().reset_index()\n",
        "\n",
        "# Print the count of missing values or null values\n",
        "print(\"Missing Values/Null Values Count:\\n\")\n",
        "print(missing_values_count)"
      ],
      "metadata": {
        "id": "GgHWkxvamxVg"
      },
      "execution_count": null,
      "outputs": []
    },
    {
      "cell_type": "code",
      "source": [
        "# Visualizing the missing values\n",
        "plt.figure(figsize = (10,8))\n",
        "sns.heatmap(data.isnull(), cbar=False)"
      ],
      "metadata": {
        "id": "3q5wnI3om9sJ"
      },
      "execution_count": null,
      "outputs": []
    },
    {
      "cell_type": "markdown",
      "source": [
        "### What did you know about your dataset?"
      ],
      "metadata": {
        "id": "H0kj-8xxnORC"
      }
    },
    {
      "cell_type": "markdown",
      "source": [
        "Based on above observations we have observed\n",
        "\n",
        "1. No Duplicates: The dataset does not contain duplicate records, indicating that each observation is unique.\n",
        "\n",
        "2. No Null Values: There are no missing values in the dataset across the columns .This suggests that the dataset is complete and does not require imputation or handling of missing values.\n",
        "\n",
        "3. Column Information: The dataset consists of the following columns:\n",
        "\n",
        "\n",
        "'price': House price\n",
        "\n",
        "'area': Area size of the house\n",
        "\n",
        "'bedrooms': Number of bedrooms\n",
        "\n",
        "'bathrooms': Number of bathrooms\n",
        "\n",
        "'stories': Number of stories\n",
        "\n",
        "'mainroad': Whether the house is located near the main road\n",
        "\n",
        "\n",
        "'guestroom': Presence of a guest room\n",
        "\n",
        "'basement': Presence of a basement\n",
        "\n",
        "'hotwaterheating': Availability of hot water heating\n",
        "\n",
        "'airconditioning': Presence of air conditioning\n",
        "\n",
        "'parking': Parking availability\n",
        "\n",
        "'prefarea': Whether the house is in a preferred area\n",
        "\n",
        "\n",
        "'furnishingstatus': Status of furnishing\n",
        "\n",
        "Understanding these aspects of the dataset lays the groundwork for further analysisAnswer Here"
      ],
      "metadata": {
        "id": "gfoNAAC-nUe_"
      }
    },
    {
      "cell_type": "markdown",
      "source": [
        "## ***2. Understanding Your Variables***"
      ],
      "metadata": {
        "id": "nA9Y7ga8ng1Z"
      }
    },
    {
      "cell_type": "code",
      "source": [
        "# Dataset Columns\n",
        "data.columns"
      ],
      "metadata": {
        "id": "j7xfkqrt5Ag5"
      },
      "execution_count": null,
      "outputs": []
    },
    {
      "cell_type": "code",
      "source": [
        "# Dataset Describe\n",
        "data.describe()"
      ],
      "metadata": {
        "id": "DnOaZdaE5Q5t"
      },
      "execution_count": null,
      "outputs": []
    },
    {
      "cell_type": "markdown",
      "source": [
        "### Variables Description"
      ],
      "metadata": {
        "id": "PBTbrJXOngz2"
      }
    },
    {
      "cell_type": "markdown",
      "source": [
        "The dataset consists of the following columns:\n",
        "\n",
        "'price': House price\n",
        "\n",
        "'area': Area size of the house\n",
        "\n",
        "'bedrooms': Number of bedrooms\n",
        "\n",
        "'bathrooms': Number of bathrooms\n",
        "\n",
        "'stories': Number of stories\n",
        "\n",
        "'mainroad': Whether the house is located near the main road\n",
        "\n",
        "'guestroom': Presence of a guest room\n",
        "\n",
        "'basement': Presence of a basement\n",
        "\n",
        "'hotwaterheating': Availability of hot water heating\n",
        "\n",
        "'airconditioning': Presence of air conditioning\n",
        "\n",
        "'parking': Parking availability\n",
        "\n",
        "'prefarea': Whether the house is in a preferred area\n",
        "\n",
        "'furnishingstatus': Status of furnishing\n",
        "\n",
        "Understanding these aspects of the dataset lays the groundwork for further analysisAnswer HereAnswer Here"
      ],
      "metadata": {
        "id": "aJV4KIxSnxay"
      }
    },
    {
      "cell_type": "markdown",
      "source": [
        "### Check Unique Values for each variable."
      ],
      "metadata": {
        "id": "u3PMJOP6ngxN"
      }
    },
    {
      "cell_type": "code",
      "source": [
        "# Check Unique Values for each variable.\n",
        "for column in data.columns:\n",
        "    unique_values = data[column].unique()\n",
        "    print(f\"Unique values for {column}: {unique_values}\")"
      ],
      "metadata": {
        "id": "zms12Yq5n-jE"
      },
      "execution_count": null,
      "outputs": []
    },
    {
      "cell_type": "markdown",
      "source": [
        "## 3. ***Data Wrangling***"
      ],
      "metadata": {
        "id": "dauF4eBmngu3"
      }
    },
    {
      "cell_type": "markdown",
      "source": [
        "### Data Wrangling Code"
      ],
      "metadata": {
        "id": "bKJF3rekwFvQ"
      }
    },
    {
      "cell_type": "code",
      "source": [
        "# Write your code to make your dataset analysis ready.\n",
        "\n",
        "# Group by 'mainroad' and 'furnishingstatus', and find the count for each combination\n",
        "by_road_furnishing_count = data.groupby(['mainroad', 'furnishingstatus']).size().to_frame(name='count')\n",
        "print(by_road_furnishing_count)"
      ],
      "metadata": {
        "id": "wk-9a2fpoLcV"
      },
      "execution_count": null,
      "outputs": []
    },
    {
      "cell_type": "code",
      "source": [
        "# Group by 'bedrooms' and calculate the sum of 'area' for each group\n",
        "by_bedrooms_area_sum = data.groupby('bedrooms')['area'].sum()\n",
        "print(by_bedrooms_area_sum)\n"
      ],
      "metadata": {
        "id": "SXWPaHhbc3LY"
      },
      "execution_count": null,
      "outputs": []
    },
    {
      "cell_type": "code",
      "source": [
        "# Find the mean 'price' for houses with 'guestroom' and without 'guestroom'\n",
        "mean_price_guestroom = data.groupby('guestroom')['price'].mean()\n",
        "print(mean_price_guestroom)"
      ],
      "metadata": {
        "id": "57zU91iylb4Q"
      },
      "execution_count": null,
      "outputs": []
    },
    {
      "cell_type": "code",
      "source": [
        "# Get unique categories within a column\n",
        "unique_categories = data['prefarea'].unique()\n",
        "print(unique_categories)"
      ],
      "metadata": {
        "id": "1QnScL1cllAD"
      },
      "execution_count": null,
      "outputs": []
    },
    {
      "cell_type": "code",
      "source": [
        "# Filter data based on conditions\n",
        "filtered_data = data[data['bedrooms'] > 3]\n",
        "filtered_data"
      ],
      "metadata": {
        "id": "np1Nu_G7lwi-"
      },
      "execution_count": null,
      "outputs": []
    },
    {
      "cell_type": "markdown",
      "source": [
        "### What all manipulations have you done and insights you found?"
      ],
      "metadata": {
        "id": "MSa1f5Uengrz"
      }
    },
    {
      "cell_type": "markdown",
      "source": [
        "Answer Here."
      ],
      "metadata": {
        "id": "LbyXE7I1olp8"
      }
    },
    {
      "cell_type": "markdown",
      "source": [
        "## ***4. Data Vizualization, Storytelling & Experimenting with charts : Understand the relationships between variables***"
      ],
      "metadata": {
        "id": "GF8Ens_Soomf"
      }
    },
    {
      "cell_type": "markdown",
      "source": [
        "#### Chart - 1 Scatter Plot(Area vs Price)"
      ],
      "metadata": {
        "id": "0wOQAZs5pc--"
      }
    },
    {
      "cell_type": "code",
      "source": [
        "# Chart - 1 visualization code\n",
        "# Price vs area\n",
        "\n",
        "plt.figure(figsize=(10, 5))\n",
        "plt.scatter(data['area'], data['price'], color='skyblue', edgecolor='black')\n",
        "plt.title('House Price vs Area', fontsize=16, fontweight='bold')\n",
        "plt.xlabel('Area (Se Feet)', fontsize=14)\n",
        "plt.ylabel('Price RS', fontsize=14)\n",
        "plt.grid(True, linestyle='--', linewidth=0.5, color='gray', axis='both')\n",
        "plt.ticklabel_format(style='plain', axis='y')\n",
        "plt.tight_layout()\n",
        "plt.show()"
      ],
      "metadata": {
        "id": "7v_ESjsspbW7"
      },
      "execution_count": null,
      "outputs": []
    },
    {
      "cell_type": "markdown",
      "source": [
        "##### 1. Why did you pick the specific chart?"
      ],
      "metadata": {
        "id": "K5QZ13OEpz2H"
      }
    },
    {
      "cell_type": "markdown",
      "source": [
        "The scatter plot to visualize the relationship between house size and price because it allows for the examination of the correlation between two continuous variables."
      ],
      "metadata": {
        "id": "XESiWehPqBRc"
      }
    },
    {
      "cell_type": "markdown",
      "source": [
        "##### 2. What is/are the insight(s) found from the chart?"
      ],
      "metadata": {
        "id": "lQ7QKXXCp7Bj"
      }
    },
    {
      "cell_type": "markdown",
      "source": [
        "The scatter plot shows a positive correlation between house size and price, indicating that larger houses tend to have higher prices.Houses with area 6000 to 8000 square feet have maximum price"
      ],
      "metadata": {
        "id": "C_j1G7yiqdRP"
      }
    },
    {
      "cell_type": "markdown",
      "source": [
        "##### 3. Will the gained insights help creating a positive business impact?\n",
        "Are there any insights that lead to negative growth? Justify with specific reason."
      ],
      "metadata": {
        "id": "448CDAPjqfQr"
      }
    },
    {
      "cell_type": "markdown",
      "source": [
        "Yes, understanding the correlation between house size and price can help real estate agents or property developers price their properties more accurately, potentially leading to better sales and revenue and helped us to analyze the data effectively"
      ],
      "metadata": {
        "id": "3cspy4FjqxJW"
      }
    },
    {
      "cell_type": "markdown",
      "source": [
        "#### Chart - 2  Box Plot(House price VS No of bedrooms)"
      ],
      "metadata": {
        "id": "KSlN3yHqYklG"
      }
    },
    {
      "cell_type": "code",
      "source": [
        "# Chart - 2 visualization code\n",
        "\n",
        "\n",
        "plt.figure(figsize=(8, 6))\n",
        "sns.boxplot(x='bedrooms', y='price', data=data, palette='Set1')\n",
        "plt.title('House Price Distribution by Number of Bedrooms', fontsize=18, fontweight='bold')\n",
        "plt.xlabel('Number of Bedrooms', fontsize=14, fontweight='bold')\n",
        "plt.ylabel('Price ', fontsize=14, fontweight='bold')\n",
        "plt.ticklabel_format(style='plain', axis='y')\n",
        "plt.xticks(fontsize=12)\n",
        "plt.yticks(fontsize=12)\n",
        "\n",
        "plt.show()"
      ],
      "metadata": {
        "id": "17wCp1FcFveP"
      },
      "execution_count": null,
      "outputs": []
    },
    {
      "cell_type": "markdown",
      "source": [
        "##### 1. Why did you pick the specific chart?"
      ],
      "metadata": {
        "id": "t6dVpIINYklI"
      }
    },
    {
      "cell_type": "markdown",
      "source": [
        "A box plot is selected to understand the distribution of house prices based on the number of bedrooms so that the outliers can be found"
      ],
      "metadata": {
        "id": "5aaW0BYyYklI"
      }
    },
    {
      "cell_type": "markdown",
      "source": [
        "##### 2. What is/are the insight(s) found from the chart?"
      ],
      "metadata": {
        "id": "ijmpgYnKYklI"
      }
    },
    {
      "cell_type": "markdown",
      "source": [
        "The box plot displays the spread of house prices across different numbers of bedrooms, showing median, quartiles, and outliers.\n"
      ],
      "metadata": {
        "id": "PSx9atu2YklI"
      }
    },
    {
      "cell_type": "markdown",
      "source": [
        "##### 3. Will the gained insights help creating a positive business impact?\n",
        "Are there any insights that lead to negative growth? Justify with specific reason."
      ],
      "metadata": {
        "id": "-JiQyfWJYklI"
      }
    },
    {
      "cell_type": "markdown",
      "source": [
        "Yes, this insight can guide property developers in pricing their properties according to the number of bedrooms, optimizing their pricing strategy.\n"
      ],
      "metadata": {
        "id": "BcBbebzrYklV"
      }
    },
    {
      "cell_type": "markdown",
      "source": [
        "#### Chart - 3 Pie Chart(Average Price vs Main Road)"
      ],
      "metadata": {
        "id": "EM7whBJCYoAo"
      }
    },
    {
      "cell_type": "code",
      "source": [
        "# Chart - 3 visualization code\n",
        "import matplotlib.pyplot as plt\n",
        "\n",
        "# Assuming you already have the 'average_price_mainroad' DataFrame and 'data' DataFrame defined\n",
        "\n",
        "average_price_mainroad = data.groupby('mainroad')['price'].mean()\n",
        "plt.figure(figsize=(8, 6))\n",
        "explode = (0.1, 0)\n",
        "plt.pie(average_price_mainroad, labels=average_price_mainroad.index, autopct='%1.1f%%', startangle=140, explode=explode)\n",
        "plt.title('Average House Price by Main Road Location')\n",
        "plt.axis('equal')  # Equal aspect ratio ensures that pie is drawn as a circle.\n",
        "\n",
        "# Add legend\n",
        "plt.legend(average_price_mainroad.index, loc=\"best\")\n",
        "\n",
        "plt.show()"
      ],
      "metadata": {
        "id": "t6GMdE67YoAp"
      },
      "execution_count": null,
      "outputs": []
    },
    {
      "cell_type": "markdown",
      "source": [
        "##### 1. Why did you pick the specific chart?"
      ],
      "metadata": {
        "id": "fge-S5ZAYoAp"
      }
    },
    {
      "cell_type": "markdown",
      "source": [
        "They provide a clear representation of the distribution of average prices between houses located on the main road ('yes') and those not located on the main road ('no'), aiding in comparison and analysis."
      ],
      "metadata": {
        "id": "5dBItgRVYoAp"
      }
    },
    {
      "cell_type": "markdown",
      "source": [
        "##### 2. What is/are the insight(s) found from the chart?"
      ],
      "metadata": {
        "id": "85gYPyotYoAp"
      }
    },
    {
      "cell_type": "markdown",
      "source": [
        "The pie chart illustrates the proportion of average house prices between houses located on the main road and those not located on the main road."
      ],
      "metadata": {
        "id": "4jstXR6OYoAp"
      }
    },
    {
      "cell_type": "markdown",
      "source": [
        "##### 3. Will the gained insights help creating a positive business impact?\n"
      ],
      "metadata": {
        "id": "RoGjAbkUYoAp"
      }
    },
    {
      "cell_type": "markdown",
      "source": [
        "Yes the insights observed that 59.5%  of the prices are higher and live on main road"
      ],
      "metadata": {
        "id": "zfJ8IqMcYoAp"
      }
    },
    {
      "cell_type": "markdown",
      "source": [
        "#### Chart - 4 Hitogram(Price Vs Frequency)"
      ],
      "metadata": {
        "id": "4Of9eVA-YrdM"
      }
    },
    {
      "cell_type": "code",
      "source": [
        "# Chart - 4 visualization code\n",
        "import matplotlib.pyplot as plt\n",
        "\n",
        "plt.figure(figsize=(8, 6))\n",
        "plt.hist(data['price'], bins=30, color='skyblue', edgecolor='black')  # Set density to True for KDE\n",
        "plt.title('Distribution of House Prices')\n",
        "plt.xlabel('Price')\n",
        "plt.ylabel('Density')  # Change ylabel to reflect density\n",
        "plt.ticklabel_format(style='plain', axis='x')\n",
        "plt.show()"
      ],
      "metadata": {
        "id": "irlUoxc8YrdO"
      },
      "execution_count": null,
      "outputs": []
    },
    {
      "cell_type": "markdown",
      "source": [
        "##### 1. Why did you pick the specific chart?"
      ],
      "metadata": {
        "id": "iky9q4vBYrdO"
      }
    },
    {
      "cell_type": "markdown",
      "source": [
        "Histograms effectively display the frequency distribution of continuous numerical data."
      ],
      "metadata": {
        "id": "aJRCwT6DYrdO"
      }
    },
    {
      "cell_type": "markdown",
      "source": [
        "##### 2. What is/are the insight(s) found from the chart?"
      ],
      "metadata": {
        "id": "F6T5p64dYrdO"
      }
    },
    {
      "cell_type": "markdown",
      "source": [
        "It highlights the concentration of prices within specific ranges and the overall spread of prices across the dataset"
      ],
      "metadata": {
        "id": "Xx8WAJvtYrdO"
      }
    },
    {
      "cell_type": "markdown",
      "source": [
        "##### 3. Will the gained insights help creating a positive business impact?\n",
        "Are there any insights that lead to negative growth? Justify with specific reason."
      ],
      "metadata": {
        "id": "y-Ehk30pYrdP"
      }
    },
    {
      "cell_type": "markdown",
      "source": [
        "Answer Here"
      ],
      "metadata": {
        "id": "jLNxxz7MYrdP"
      }
    },
    {
      "cell_type": "markdown",
      "source": [
        "#### Chart - 5 stacked plot ( No of bedrooms on furnishing status )"
      ],
      "metadata": {
        "id": "bamQiAODYuh1"
      }
    },
    {
      "cell_type": "code",
      "source": [
        "# Chart - 5 visualization code\n",
        "grouped_counts = data.groupby(['bedrooms', 'furnishingstatus']).size().unstack(fill_value=0)\n",
        "plt.figure(figsize=(12, 8))\n",
        "grouped_counts.plot(kind='bar', stacked=True, color=['skyblue', 'lightgreen', 'lightcoral'])\n",
        "\n",
        "plt.title('Number of Houses by Number of Bedrooms and Furnishing Status', fontsize=16)\n",
        "plt.xlabel('Number of Bedrooms', fontsize=14)\n",
        "plt.ylabel('Count', fontsize=14)\n",
        "plt.xticks(rotation=0, fontsize=12)\n",
        "plt.yticks(fontsize=12)\n",
        "plt.legend(title='Furnishing Status', fontsize=12, title_fontsize=12)\n",
        "plt.show()"
      ],
      "metadata": {
        "id": "TIJwrbroYuh3"
      },
      "execution_count": null,
      "outputs": []
    },
    {
      "cell_type": "markdown",
      "source": [
        "##### 1. Why did you pick the specific chart?"
      ],
      "metadata": {
        "id": "QHF8YVU7Yuh3"
      }
    },
    {
      "cell_type": "markdown",
      "source": [
        "Stacked bar charts effectively display the distribution of categorical variables across multiple groups.\n"
      ],
      "metadata": {
        "id": "dcxuIMRPYuh3"
      }
    },
    {
      "cell_type": "markdown",
      "source": [
        "##### 2. What is/are the insight(s) found from the chart?"
      ],
      "metadata": {
        "id": "GwzvFGzlYuh3"
      }
    },
    {
      "cell_type": "markdown",
      "source": [
        "It highlights the proportion of houses with different furnishing statuses within each category of bedrooms."
      ],
      "metadata": {
        "id": "uyqkiB8YYuh3"
      }
    },
    {
      "cell_type": "markdown",
      "source": [
        "##### 3. Will the gained insights help creating a positive business impact?\n",
        "Are there any insights that lead to negative growth? Justify with specific reason."
      ],
      "metadata": {
        "id": "qYpmQ266Yuh3"
      }
    },
    {
      "cell_type": "markdown",
      "source": [
        "Answer Here"
      ],
      "metadata": {
        "id": "_WtzZ_hCYuh4"
      }
    },
    {
      "cell_type": "markdown",
      "source": [
        "#### Chart - 6  in progress"
      ],
      "metadata": {
        "id": "OH-pJp9IphqM"
      }
    },
    {
      "cell_type": "code",
      "source": [
        "# Chart - 6 visualization code\n",
        "sns.pairplot(data[['area', 'bedrooms', 'bathrooms', 'stories', 'parking']])\n",
        "plt.ticklabel_format(style='plain', axis='both')\n",
        "plt.show()"
      ],
      "metadata": {
        "id": "kuRf4wtuphqN"
      },
      "execution_count": null,
      "outputs": []
    },
    {
      "cell_type": "markdown",
      "source": [
        "##### 1. Why did you pick the specific chart?"
      ],
      "metadata": {
        "id": "bbFf2-_FphqN"
      }
    },
    {
      "cell_type": "markdown",
      "source": [
        "Pair plots provide a comprehensive overview of pairwise relationships between variables."
      ],
      "metadata": {
        "id": "loh7H2nzphqN"
      }
    },
    {
      "cell_type": "markdown",
      "source": [
        "##### 2. What is/are the insight(s) found from the chart?"
      ],
      "metadata": {
        "id": "_ouA3fa0phqN"
      }
    },
    {
      "cell_type": "markdown",
      "source": [
        "It highlights potential linear relationships, correlations, and distributions among the variables."
      ],
      "metadata": {
        "id": "VECbqPI7phqN"
      }
    },
    {
      "cell_type": "markdown",
      "source": [
        "##### 3. Will the gained insights help creating a positive business impact?\n",
        "Are there any insights that lead to negative growth? Justify with specific reason."
      ],
      "metadata": {
        "id": "Seke61FWphqN"
      }
    },
    {
      "cell_type": "markdown",
      "source": [
        "Insights from the pair plot can inform decision-making processes related to pricing strategies, property valuation, and market positioning, ultimately leading to informed business strategies and increased competitiveness in the real estate market."
      ],
      "metadata": {
        "id": "DW4_bGpfphqN"
      }
    },
    {
      "cell_type": "markdown",
      "source": [
        "#### Chart - 7 Depicting Sub Pie plots for few underated columns"
      ],
      "metadata": {
        "id": "PIIx-8_IphqN"
      }
    },
    {
      "cell_type": "code",
      "source": [
        "# Chart - 7 visualization code\n",
        "columns_to_plot = ['guestroom', 'basement', 'hotwaterheating', 'airconditioning', 'parking']\n",
        "fig, axes = plt.subplots(nrows=1, ncols=len(columns_to_plot), figsize=(18, 5))\n",
        "for i, column in enumerate(columns_to_plot):\n",
        "    counts = data[column].value_counts()\n",
        "    axes[i].pie(counts, labels=counts.index, autopct='%1.1f%%', startangle=140)\n",
        "    axes[i].set_title(f'Distribution of {column.capitalize()}', fontsize=14)\n",
        "\n",
        "plt.tight_layout()\n",
        "plt.show()"
      ],
      "metadata": {
        "id": "lqAIGUfyphqO"
      },
      "execution_count": null,
      "outputs": []
    },
    {
      "cell_type": "markdown",
      "source": [
        "##### 1. Why did you pick the specific chart?"
      ],
      "metadata": {
        "id": "t27r6nlMphqO"
      }
    },
    {
      "cell_type": "markdown",
      "source": [
        "Pie charts were chosen to visualize the distribution of categories within each column effectively.\n",
        "Pie charts provide a clear representation of proportions and help compare the relative frequencies of different categories.Answer Here."
      ],
      "metadata": {
        "id": "iv6ro40sphqO"
      }
    },
    {
      "cell_type": "markdown",
      "source": [
        "##### 2. What is/are the insight(s) found from the chart?"
      ],
      "metadata": {
        "id": "r2jJGEOYphqO"
      }
    },
    {
      "cell_type": "markdown",
      "source": [
        "The pie charts illustrate the proportion of houses with specific attributes such as guest rooms, basements, hot water heating, air conditioning, and parking facilities.\n",
        "They highlight the prevalence or scarcity of these amenities within the dataset, offering insights into the common features of the houses."
      ],
      "metadata": {
        "id": "Po6ZPi4hphqO"
      }
    },
    {
      "cell_type": "markdown",
      "source": [
        "##### 3. Will the gained insights help creating a positive business impact?\n",
        "Are there any insights that lead to negative growth? Justify with specific reason."
      ],
      "metadata": {
        "id": "b0JNsNcRphqO"
      }
    },
    {
      "cell_type": "markdown",
      "source": [
        "Understanding the distribution of amenities helps in tailoring marketing strategies to target customers interested in specific features."
      ],
      "metadata": {
        "id": "xvSq8iUTphqO"
      }
    },
    {
      "cell_type": "markdown",
      "source": [
        "#### Chart - 8 Swarm Plot (Price vs Furnishing staus )"
      ],
      "metadata": {
        "id": "BZR9WyysphqO"
      }
    },
    {
      "cell_type": "code",
      "source": [
        "# Chart - 8 visualization code\n",
        "\n",
        "plt.figure(figsize=(10, 6))\n",
        "sns.stripplot(x='furnishingstatus', y='price', data=data, palette='Set2')\n",
        "\n",
        "# Adding title and labels\n",
        "plt.title('House Price Distribution by Furnishing Status')\n",
        "plt.xlabel('Furnishing Status')\n",
        "plt.ylabel('Price')\n",
        "plt.ticklabel_format(style='plain', axis='y')\n",
        "plt.show()\n"
      ],
      "metadata": {
        "id": "TdPTWpAVphqO"
      },
      "execution_count": null,
      "outputs": []
    },
    {
      "cell_type": "markdown",
      "source": [
        "##### 1. Why did you pick the specific chart?"
      ],
      "metadata": {
        "id": "jj7wYXLtphqO"
      }
    },
    {
      "cell_type": "markdown",
      "source": [
        "A swarm plot was chosen to visualize the distribution of house prices across different furnishing statuses."
      ],
      "metadata": {
        "id": "Ob8u6rCTphqO"
      }
    },
    {
      "cell_type": "markdown",
      "source": [
        "##### 2. What is/are the insight(s) found from the chart?"
      ],
      "metadata": {
        "id": "eZrbJ2SmphqO"
      }
    },
    {
      "cell_type": "markdown",
      "source": [
        "It highlights the spread and concentration of prices within each category, allowing for comparison and analysis."
      ],
      "metadata": {
        "id": "mZtgC_hjphqO"
      }
    },
    {
      "cell_type": "markdown",
      "source": [
        "##### 3. Will the gained insights help creating a positive business impact?\n",
        "Are there any insights that lead to negative growth? Justify with specific reason."
      ],
      "metadata": {
        "id": "rFu4xreNphqO"
      }
    },
    {
      "cell_type": "markdown",
      "source": [
        "Answer Here"
      ],
      "metadata": {
        "id": "ey_0qi68phqO"
      }
    },
    {
      "cell_type": "markdown",
      "source": [
        "#### Chart - 9 Stacked bar chart (Number of Houses by Number of Bedrooms and Furnishing Status)"
      ],
      "metadata": {
        "id": "YJ55k-q6phqO"
      }
    },
    {
      "cell_type": "code",
      "source": [
        "# Chart - 9 visualization code\n",
        "\n",
        "# Bar Plots\n",
        "# Average price by location\n",
        "palette = 'Set2'\n",
        "plt.figure(figsize=(8, 6))\n",
        "sns.barplot(x='prefarea', y='price', data=data, palette=palette)\n",
        "plt.title('Average House Price by Location')\n",
        "plt.xlabel('Location')\n",
        "plt.ylabel('Average Price')\n",
        "plt.xticks(rotation=45)\n",
        "plt.ticklabel_format(style='plain', axis='y')\n",
        "plt.show()"
      ],
      "metadata": {
        "id": "B2aS4O1ophqO"
      },
      "execution_count": null,
      "outputs": []
    },
    {
      "cell_type": "markdown",
      "source": [
        "##### 1. Why did you pick the specific chart?"
      ],
      "metadata": {
        "id": "gCFgpxoyphqP"
      }
    },
    {
      "cell_type": "markdown",
      "source": [
        "Barplots effectively display comparisons of numerical values across different categorie"
      ],
      "metadata": {
        "id": "TVxDimi2phqP"
      }
    },
    {
      "cell_type": "markdown",
      "source": [
        "##### 2. What is/are the insight(s) found from the chart?"
      ],
      "metadata": {
        "id": "OVtJsKN_phqQ"
      }
    },
    {
      "cell_type": "markdown",
      "source": [
        "Answer Here"
      ],
      "metadata": {
        "id": "ngGi97qjphqQ"
      }
    },
    {
      "cell_type": "markdown",
      "source": [
        "##### 3. Will the gained insights help creating a positive business impact?\n",
        "Are there any insights that lead to negative growth? Justify with specific reason."
      ],
      "metadata": {
        "id": "lssrdh5qphqQ"
      }
    },
    {
      "cell_type": "markdown",
      "source": [
        "Answer Here"
      ],
      "metadata": {
        "id": "tBpY5ekJphqQ"
      }
    },
    {
      "cell_type": "markdown",
      "source": [
        "#### Chart - 10"
      ],
      "metadata": {
        "id": "U2RJ9gkRphqQ"
      }
    },
    {
      "cell_type": "code",
      "source": [
        "# Chart - 10 visualization code\n",
        "\n",
        "palette = 'Pastel1'\n",
        "plt.figure(figsize=(8, 6))\n",
        "sns.boxplot(x='stories', y='price', data=data, palette='Set1')\n",
        "\n",
        "\n",
        "plt.title('House Price Distribution by Number of Stories')\n",
        "plt.xlabel('Number of Stories')\n",
        "plt.ylabel('Price')\n",
        "plt.ticklabel_format(style='plain', axis='y')\n",
        "\n",
        "# Show the boxplot\n",
        "plt.show()"
      ],
      "metadata": {
        "id": "GM7a4YP4phqQ"
      },
      "execution_count": null,
      "outputs": []
    },
    {
      "cell_type": "markdown",
      "source": [
        "##### 1. Why did you pick the specific chart?"
      ],
      "metadata": {
        "id": "1M8mcRywphqQ"
      }
    },
    {
      "cell_type": "markdown",
      "source": [
        "Boxplots effectively display the distribution of data, including key statistics such as median, quartiles, and outliers."
      ],
      "metadata": {
        "id": "8agQvks0phqQ"
      }
    },
    {
      "cell_type": "markdown",
      "source": [
        "##### 2. What is/are the insight(s) found from the chart?"
      ],
      "metadata": {
        "id": "tgIPom80phqQ"
      }
    },
    {
      "cell_type": "markdown",
      "source": [
        "It highlights the distribution of prices within each category of the number of stories, including median values and the range of prices."
      ],
      "metadata": {
        "id": "Qp13pnNzphqQ"
      }
    },
    {
      "cell_type": "markdown",
      "source": [
        "##### 3. Will the gained insights help creating a positive business impact?\n",
        "Are there any insights that lead to negative growth? Justify with specific reason."
      ],
      "metadata": {
        "id": "JMzcOPDDphqR"
      }
    },
    {
      "cell_type": "markdown",
      "source": [
        "Answer Here"
      ],
      "metadata": {
        "id": "R4Ka1PC2phqR"
      }
    },
    {
      "cell_type": "markdown",
      "source": [
        "#### Chart - 11 Violin PLot (no of bedrooms vs price )"
      ],
      "metadata": {
        "id": "x-EpHcCOp1ci"
      }
    },
    {
      "cell_type": "code",
      "source": [
        "# Chart - 11 visualization code\n",
        "\n",
        "# Violin Plots\n",
        "#kernel destinayi\n",
        "palette = 'Set2'  # You can choose any Seaborn color palette you prefer\n",
        "plt.figure(figsize=(8, 6))\n",
        "sns.violinplot(x='bedrooms', y='price', data=data, palette=palette)  # showmeans displays mean values\n",
        "plt.title('House Price Distribution by Number of Bedrooms (Violin Plot)')\n",
        "plt.xlabel('Number of Bedrooms')\n",
        "plt.ylabel('Price')\n",
        "plt.ticklabel_format(style='plain', axis='y')\n",
        "plt.show()"
      ],
      "metadata": {
        "id": "mAQTIvtqp1cj"
      },
      "execution_count": null,
      "outputs": []
    },
    {
      "cell_type": "markdown",
      "source": [
        "##### 1. Why did you pick the specific chart?"
      ],
      "metadata": {
        "id": "X_VqEhTip1ck"
      }
    },
    {
      "cell_type": "markdown",
      "source": [
        "The violin plot was selected to visualize the distribution of house prices based on the number of bedrooms."
      ],
      "metadata": {
        "id": "-vsMzt_np1ck"
      }
    },
    {
      "cell_type": "markdown",
      "source": [
        "##### 2. What is/are the insight(s) found from the chart?"
      ],
      "metadata": {
        "id": "8zGJKyg5p1ck"
      }
    },
    {
      "cell_type": "markdown",
      "source": [
        "It highlights the distribution of prices within each bedroom category, including the range, median, and spread of prices."
      ],
      "metadata": {
        "id": "ZYdMsrqVp1ck"
      }
    },
    {
      "cell_type": "markdown",
      "source": [
        "##### 3. Will the gained insights help creating a positive business impact?\n",
        "Are there any insights that lead to negative growth? Justify with specific reason."
      ],
      "metadata": {
        "id": "PVzmfK_Ep1ck"
      }
    },
    {
      "cell_type": "markdown",
      "source": [
        "Insights from the violin plot can guide investment decisions, property development plans, and marketing campaigns, ultimately leading to increased sales and customer satisf"
      ],
      "metadata": {
        "id": "druuKYZpp1ck"
      }
    },
    {
      "cell_type": "markdown",
      "source": [
        "#### Chart - 12 KDE plot"
      ],
      "metadata": {
        "id": "n3dbpmDWp1ck"
      }
    },
    {
      "cell_type": "code",
      "source": [
        "# Chart - 12 visualization code\n",
        "\n",
        "# KDE Plots (Kernel Density Estimation)\n",
        "# density of a continuous variable\n",
        "plt.figure(figsize=(8, 6))\n",
        "sns.kdeplot(data['price'], shade=True)\n",
        "plt.title('Probability Density of House Prices')\n",
        "plt.xlabel('Price')\n",
        "plt.ylabel('Density')\n",
        "plt.ticklabel_format(style='plain', axis='x')\n",
        "plt.show()"
      ],
      "metadata": {
        "id": "bwevp1tKp1ck"
      },
      "execution_count": null,
      "outputs": []
    },
    {
      "cell_type": "markdown",
      "source": [
        "##### 1. Why did you pick the specific chart?"
      ],
      "metadata": {
        "id": "ylSl6qgtp1ck"
      }
    },
    {
      "cell_type": "markdown",
      "source": [
        "The KDE plot was chosen because it effectively represents the probability density of house prices. It allows for visualizing the distribution of prices in a continuous manner, which can be useful for understanding the overall shape and characteristics of the price distribution."
      ],
      "metadata": {
        "id": "m2xqNkiQp1ck"
      }
    },
    {
      "cell_type": "markdown",
      "source": [
        "##### 2. What is/are the insight(s) found from the chart?"
      ],
      "metadata": {
        "id": "ZWILFDl5p1ck"
      }
    },
    {
      "cell_type": "markdown",
      "source": [
        "The KDE plot illustrates the probability density of house prices, showing where the distribution is concentrated and how it spreads out."
      ],
      "metadata": {
        "id": "x-lUsV2mp1ck"
      }
    },
    {
      "cell_type": "markdown",
      "source": [
        "##### 3. Will the gained insights help creating a positive business impact?\n",
        "Are there any insights that lead to negative growth? Justify with specific reason."
      ],
      "metadata": {
        "id": "M7G43BXep1ck"
      }
    },
    {
      "cell_type": "markdown",
      "source": [
        "the insights gained from the KDE plot can contribute to more informed decision-making processes within the real estate market, potentially leading to positive business outcomes and customer satisfaction."
      ],
      "metadata": {
        "id": "5wwDJXsLp1cl"
      }
    },
    {
      "cell_type": "markdown",
      "source": [
        "#### Chart - 13 Countplot (Furnishing status by preferrred area)"
      ],
      "metadata": {
        "id": "Ag9LCva-p1cl"
      }
    },
    {
      "cell_type": "code",
      "source": [
        "# Chart - 13 visualization code\n",
        "plt.figure(figsize=(8, 6))\n",
        "sns.countplot(x='furnishingstatus', data=data, hue='prefarea')\n",
        "plt.title('Furnishing Status Distribution by Preferred Area')\n",
        "plt.show()"
      ],
      "metadata": {
        "id": "EUfxeq9-p1cl"
      },
      "execution_count": null,
      "outputs": []
    },
    {
      "cell_type": "markdown",
      "source": [
        "##### 1. Why did you pick the specific chart?"
      ],
      "metadata": {
        "id": "E6MkPsBcp1cl"
      }
    },
    {
      "cell_type": "markdown",
      "source": [
        "The specific chart chosen, a countplot with hue, was likely selected because it effectively visualizes the distribution of furnishing status across different preferred areas. The countplot is suitable for showing the frequency of categorical variables"
      ],
      "metadata": {
        "id": "V22bRsFWp1cl"
      }
    },
    {
      "cell_type": "markdown",
      "source": [
        "##### 2. What is/are the insight(s) found from the chart?"
      ],
      "metadata": {
        "id": "2cELzS2fp1cl"
      }
    },
    {
      "cell_type": "markdown",
      "source": [
        "Understanding the distribution of furnishing statuses (e.g., furnished, semi-furnished, unfurnished) across different preferred areas."
      ],
      "metadata": {
        "id": "ozQPc2_Ip1cl"
      }
    },
    {
      "cell_type": "markdown",
      "source": [
        "##### 3. Will the gained insights help creating a positive business impact?\n",
        "Are there any insights that lead to negative growth? Justify with specific reason."
      ],
      "metadata": {
        "id": "3MPXvC8up1cl"
      }
    },
    {
      "cell_type": "markdown",
      "source": [
        "Overall, understanding the relationship between furnishing status and preferred areas can lead to more targeted and effective business decisions in the real estate sector, potentially resulting in improved customer engagement and profitability."
      ],
      "metadata": {
        "id": "GL8l1tdLp1cl"
      }
    },
    {
      "cell_type": "markdown",
      "source": [
        "#### Chart - 14 - Correlation Heatmap"
      ],
      "metadata": {
        "id": "NC_X3p0fY2L0"
      }
    },
    {
      "cell_type": "code",
      "source": [
        "# Correlation Heatmap visualization code\n",
        "\n",
        "# Heatmap\n",
        "# Correlation matrix (excluding categorical features)\n",
        "numerical_data = data[['area', 'bedrooms', 'bathrooms', 'stories', 'parking']]\n",
        "plt.figure(figsize=(10, 6))\n",
        "sns.heatmap(numerical_data.corr(), annot=True, cmap='coolwarm', fmt=\".2f\", linewidths=0.5)\n",
        "plt.title('Correlation Matrix (Numerical Features)')\n",
        "plt.show()"
      ],
      "metadata": {
        "id": "xyC9zolEZNRQ"
      },
      "execution_count": null,
      "outputs": []
    },
    {
      "cell_type": "markdown",
      "source": [
        "##### 1. Why did you pick the specific chart?"
      ],
      "metadata": {
        "id": "UV0SzAkaZNRQ"
      }
    },
    {
      "cell_type": "markdown",
      "source": [
        "Answer Here."
      ],
      "metadata": {
        "id": "DVPuT8LYZNRQ"
      }
    },
    {
      "cell_type": "markdown",
      "source": [
        "##### 2. What is/are the insight(s) found from the chart?"
      ],
      "metadata": {
        "id": "YPEH6qLeZNRQ"
      }
    },
    {
      "cell_type": "markdown",
      "source": [
        "Answer Here"
      ],
      "metadata": {
        "id": "bfSqtnDqZNRR"
      }
    },
    {
      "cell_type": "markdown",
      "source": [
        "#### Chart - 15 - Pair Plot"
      ],
      "metadata": {
        "id": "q29F0dvdveiT"
      }
    },
    {
      "cell_type": "code",
      "source": [
        "# Pair Plot visualization code\n",
        "import seaborn as sns\n",
        "import matplotlib.pyplot as plt\n",
        "\n",
        "plt.figure(figsize=(8, 6))  # Adjust the figure size as needed\n",
        "columns_for_pairplot = [ 'area', 'bedrooms', 'bathrooms', 'furnishingstatus']\n",
        "sns.set(style=\"ticks\", palette=\"muted\")\n",
        "sns.pairplot(data[columns_for_pairplot], hue='furnishingstatus', diag_kind=\"kde\", markers=\"o\", palette=\"husl\", height=2)\n",
        "plt.show()"
      ],
      "metadata": {
        "id": "o58-TEIhveiU"
      },
      "execution_count": null,
      "outputs": []
    },
    {
      "cell_type": "markdown",
      "source": [
        "##### 1. Why did you pick the specific chart?"
      ],
      "metadata": {
        "id": "EXh0U9oCveiU"
      }
    },
    {
      "cell_type": "markdown",
      "source": [
        "Pair plot was selected for comprehensive visualization of pairwise relationships.\n",
        "Suitable for exploratory data analysis due to quick overview of correlations.\n",
        "Helps understand relationships between price, area, bedrooms, bathrooms, and furnishing status."
      ],
      "metadata": {
        "id": "eMmPjTByveiU"
      }
    },
    {
      "cell_type": "markdown",
      "source": [
        "##### 2. What is/are the insight(s) found from the chart?"
      ],
      "metadata": {
        "id": "22aHeOlLveiV"
      }
    },
    {
      "cell_type": "markdown",
      "source": [
        "A correlations can be observed between the columns on a data summarizing furnishing status"
      ],
      "metadata": {
        "id": "uPQ8RGwHveiV"
      }
    },
    {
      "cell_type": "markdown",
      "source": [
        "### 4. Feature Manipulation & Selection"
      ],
      "metadata": {
        "id": "-oLEiFgy-5Pf"
      }
    },
    {
      "cell_type": "markdown",
      "source": [
        "#### 1. Feature Manipulation\n",
        "\n",
        "we have encoded all the categorical data into numerical data and categorised accordingly"
      ],
      "metadata": {
        "id": "C74aWNz2AliB"
      }
    },
    {
      "cell_type": "markdown",
      "source": [
        "#### 2. Feature Selection"
      ],
      "metadata": {
        "id": "2DejudWSA-a0"
      }
    },
    {
      "cell_type": "markdown",
      "source": [
        "##### What all feature selection methods have you used  and why?"
      ],
      "metadata": {
        "id": "pEMng2IbBLp7"
      }
    },
    {
      "cell_type": "markdown",
      "source": [
        "Answer we have catagorised data according to user preferences like the no of bedrooms,bathrooms, whether they want a airconditioner and much more"
      ],
      "metadata": {
        "id": "rb2Lh6Z8BgGs"
      }
    },
    {
      "cell_type": "markdown",
      "source": [
        "##### Which all features you found important and why?"
      ],
      "metadata": {
        "id": "rAdphbQ9Bhjc"
      }
    },
    {
      "cell_type": "markdown",
      "source": [
        "Answer Here."
      ],
      "metadata": {
        "id": "fGgaEstsBnaf"
      }
    },
    {
      "cell_type": "markdown",
      "source": [
        "### 5. Data Transformation"
      ],
      "metadata": {
        "id": "TNVZ9zx19K6k"
      }
    },
    {
      "cell_type": "markdown",
      "source": [
        "#### Do you think that your data needs to be transformed? If yes, which transformation have you used. Explain Why?"
      ],
      "metadata": {
        "id": "nqoHp30x9hH9"
      }
    },
    {
      "cell_type": "code",
      "source": [
        "# Transform Your data"
      ],
      "metadata": {
        "id": "I6quWQ1T9rtH"
      },
      "execution_count": null,
      "outputs": []
    },
    {
      "cell_type": "markdown",
      "source": [
        "### 6. Data Scaling"
      ],
      "metadata": {
        "id": "rMDnDkt2B6du"
      }
    },
    {
      "cell_type": "markdown",
      "source": [
        "##### Which method have you used to scale you data and why?\n",
        "\n",
        "We have used standard scaler from sklearn.preprocessing for data scaling where it transforms the data such that its distribution will have a mean value of 0 and a standard deviation of 1."
      ],
      "metadata": {
        "id": "yiiVWRdJDDil"
      }
    },
    {
      "cell_type": "markdown",
      "source": [
        "### 7. Dimesionality Reduction"
      ],
      "metadata": {
        "id": "1UUpS68QDMuG"
      }
    },
    {
      "cell_type": "markdown",
      "source": [
        "##### Do you think that dimensionality reduction is needed? Explain Why?"
      ],
      "metadata": {
        "id": "kexQrXU-DjzY"
      }
    },
    {
      "cell_type": "markdown",
      "source": [
        "Answer Here."
      ],
      "metadata": {
        "id": "GGRlBsSGDtTQ"
      }
    },
    {
      "cell_type": "code",
      "source": [
        "# DImensionality Reduction (If needed)"
      ],
      "metadata": {
        "id": "kQfvxBBHDvCa"
      },
      "execution_count": null,
      "outputs": []
    },
    {
      "cell_type": "markdown",
      "source": [
        "##### What technique did you use to handle the imbalance dataset and why? (If needed to be balanced)"
      ],
      "metadata": {
        "id": "TIqpNgepFxVj"
      }
    },
    {
      "cell_type": "markdown",
      "source": [
        "Answer Here."
      ],
      "metadata": {
        "id": "qbet1HwdGDTz"
      }
    },
    {
      "cell_type": "markdown",
      "source": [
        "## ***5. ML Model Implementation***"
      ],
      "metadata": {
        "id": "VfCC591jGiD4"
      }
    },
    {
      "cell_type": "markdown",
      "source": [
        "## ML Model\n"
      ],
      "metadata": {
        "id": "M2VMx7BDWA4Q"
      }
    },
    {
      "cell_type": "markdown",
      "source": [
        "###Model 1 Linear regression"
      ],
      "metadata": {
        "id": "iFL_7M2L4QW0"
      }
    },
    {
      "cell_type": "code",
      "source": [
        "#1. Handling Binary Categorical Variables (Yes/No) Categories\n",
        "categorical_col =  ['mainroad', 'guestroom', 'basement', 'hotwaterheating', 'airconditioning', 'prefarea']\n",
        "data[categorical_col]\n"
      ],
      "metadata": {
        "id": "f0YoJ_wUu9hk"
      },
      "execution_count": null,
      "outputs": []
    },
    {
      "cell_type": "code",
      "source": [
        "#encoding\n",
        "def binary_map(x):\n",
        "    return x.map({'yes': 1, 'no': 0})\n"
      ],
      "metadata": {
        "id": "n1LFIVr8u9eE"
      },
      "execution_count": null,
      "outputs": []
    },
    {
      "cell_type": "code",
      "source": [
        "data[categorical_col] = data[categorical_col].apply(binary_map)\n",
        "data[categorical_col]"
      ],
      "metadata": {
        "id": "0SBYMJgiu9bp"
      },
      "execution_count": null,
      "outputs": []
    },
    {
      "cell_type": "code",
      "source": [
        "#2. Handling Categorical data with Dummy Variable\n",
        "dummy_co = pd.get_dummies(data['furnishingstatus'])\n",
        "dummy_co.head()"
      ],
      "metadata": {
        "id": "4STyI-P0u9Zm"
      },
      "execution_count": null,
      "outputs": []
    },
    {
      "cell_type": "code",
      "source": [
        "dummy_co = pd.get_dummies(data['furnishingstatus'], drop_first=True)\n",
        "dummy_co.head()"
      ],
      "metadata": {
        "id": "k_455EV5u9XP"
      },
      "execution_count": null,
      "outputs": []
    },
    {
      "cell_type": "code",
      "source": [
        "data = pd.concat([data, dummy_co], axis=1)\n",
        "data.head()"
      ],
      "metadata": {
        "id": "-es4y5uyu9U1"
      },
      "execution_count": null,
      "outputs": []
    },
    {
      "cell_type": "code",
      "source": [
        "data.drop(['furnishingstatus'], axis=1 ,inplace=True)\n"
      ],
      "metadata": {
        "id": "nM7biBQnu9SZ"
      },
      "execution_count": null,
      "outputs": []
    },
    {
      "cell_type": "code",
      "source": [
        "#plitting data into Training and Testing data\n",
        "np.random.seed(0)\n",
        "df_train, df_test = train_test_split(data, train_size=0.7, test_size=0.3, random_state=200)"
      ],
      "metadata": {
        "id": "Mqib0xdUu9Pq"
      },
      "execution_count": null,
      "outputs": []
    },
    {
      "cell_type": "code",
      "source": [
        "df_train.head()"
      ],
      "metadata": {
        "id": "B0d0WLp4ecyc"
      },
      "execution_count": null,
      "outputs": []
    },
    {
      "cell_type": "code",
      "source": [
        "scaler = StandardScaler()"
      ],
      "metadata": {
        "id": "fJC_7FbJu9NU"
      },
      "execution_count": null,
      "outputs": []
    },
    {
      "cell_type": "code",
      "source": [
        "col_to_scale = ['area', 'bedrooms', 'bathrooms', 'stories', 'parking', 'price']"
      ],
      "metadata": {
        "id": "FBRk-Ah5u9IY"
      },
      "execution_count": null,
      "outputs": []
    },
    {
      "cell_type": "code",
      "execution_count": null,
      "metadata": {
        "execution": {
          "iopub.execute_input": "2024-01-01T14:21:03.754188Z",
          "iopub.status.busy": "2024-01-01T14:21:03.753496Z",
          "iopub.status.idle": "2024-01-01T14:21:03.763841Z",
          "shell.execute_reply": "2024-01-01T14:21:03.762744Z"
        },
        "papermill": {
          "duration": 0.038927,
          "end_time": "2024-01-01T14:21:03.767106",
          "exception": false,
          "start_time": "2024-01-01T14:21:03.728179",
          "status": "completed"
        },
        "tags": [],
        "id": "d4685bab"
      },
      "outputs": [],
      "source": [
        "df_train[col_to_scale] = scaler.fit_transform(df_train[col_to_scale])"
      ]
    },
    {
      "cell_type": "code",
      "execution_count": null,
      "metadata": {
        "execution": {
          "iopub.execute_input": "2024-01-01T14:21:03.865016Z",
          "iopub.status.busy": "2024-01-01T14:21:03.864571Z",
          "iopub.status.idle": "2024-01-01T14:21:03.870140Z",
          "shell.execute_reply": "2024-01-01T14:21:03.868952Z"
        },
        "papermill": {
          "duration": 0.0332,
          "end_time": "2024-01-01T14:21:03.872452",
          "exception": false,
          "start_time": "2024-01-01T14:21:03.839252",
          "status": "completed"
        },
        "tags": [],
        "id": "4c0f7ed2"
      },
      "outputs": [],
      "source": [
        "y_train = df_train.pop('price')\n",
        "x_train = df_train"
      ]
    },
    {
      "cell_type": "code",
      "execution_count": null,
      "metadata": {
        "execution": {
          "iopub.execute_input": "2024-01-01T14:21:03.922630Z",
          "iopub.status.busy": "2024-01-01T14:21:03.921940Z",
          "iopub.status.idle": "2024-01-01T14:21:03.926197Z",
          "shell.execute_reply": "2024-01-01T14:21:03.925254Z"
        },
        "papermill": {
          "duration": 0.032536,
          "end_time": "2024-01-01T14:21:03.928919",
          "exception": false,
          "start_time": "2024-01-01T14:21:03.896383",
          "status": "completed"
        },
        "tags": [],
        "id": "d5d9d521"
      },
      "outputs": [],
      "source": [
        "linear_regression = LinearRegression()"
      ]
    },
    {
      "cell_type": "code",
      "source": [
        "# data.drop(['furnishingstatus'], axis=1 ,inplace=True)"
      ],
      "metadata": {
        "id": "4zntf4uTniGV"
      },
      "execution_count": null,
      "outputs": []
    },
    {
      "cell_type": "code",
      "execution_count": null,
      "metadata": {
        "execution": {
          "iopub.execute_input": "2024-01-01T14:21:03.980933Z",
          "iopub.status.busy": "2024-01-01T14:21:03.980495Z",
          "iopub.status.idle": "2024-01-01T14:21:04.017524Z",
          "shell.execute_reply": "2024-01-01T14:21:04.016262Z"
        },
        "papermill": {
          "duration": 0.065302,
          "end_time": "2024-01-01T14:21:04.019955",
          "exception": false,
          "start_time": "2024-01-01T14:21:03.954653",
          "status": "completed"
        },
        "tags": [],
        "id": "5300ba79"
      },
      "outputs": [],
      "source": [
        "linear_regression.fit(x_train, y_train)"
      ]
    },
    {
      "cell_type": "code",
      "execution_count": null,
      "metadata": {
        "execution": {
          "iopub.execute_input": "2024-01-01T14:21:04.072934Z",
          "iopub.status.busy": "2024-01-01T14:21:04.072504Z",
          "iopub.status.idle": "2024-01-01T14:21:04.078587Z",
          "shell.execute_reply": "2024-01-01T14:21:04.077397Z"
        },
        "papermill": {
          "duration": 0.035389,
          "end_time": "2024-01-01T14:21:04.081229",
          "exception": false,
          "start_time": "2024-01-01T14:21:04.045840",
          "status": "completed"
        },
        "tags": [],
        "id": "281e5e9a"
      },
      "outputs": [],
      "source": [
        "coefficients = linear_regression.coef_\n",
        "\n",
        "\n",
        "print(coefficients)"
      ]
    },
    {
      "cell_type": "code",
      "execution_count": null,
      "metadata": {
        "execution": {
          "iopub.execute_input": "2024-01-01T14:21:04.132543Z",
          "iopub.status.busy": "2024-01-01T14:21:04.132099Z",
          "iopub.status.idle": "2024-01-01T14:21:04.141343Z",
          "shell.execute_reply": "2024-01-01T14:21:04.140125Z"
        },
        "papermill": {
          "duration": 0.038401,
          "end_time": "2024-01-01T14:21:04.144191",
          "exception": false,
          "start_time": "2024-01-01T14:21:04.105790",
          "status": "completed"
        },
        "tags": [],
        "id": "6f117530"
      },
      "outputs": [],
      "source": [
        "score = linear_regression.score(x_train, y_train)\n",
        "print(score)"
      ]
    },
    {
      "cell_type": "code",
      "execution_count": null,
      "metadata": {
        "execution": {
          "iopub.execute_input": "2024-01-01T14:21:04.245768Z",
          "iopub.status.busy": "2024-01-01T14:21:04.245351Z",
          "iopub.status.idle": "2024-01-01T14:21:04.249838Z",
          "shell.execute_reply": "2024-01-01T14:21:04.248871Z"
        },
        "papermill": {
          "duration": 0.033116,
          "end_time": "2024-01-01T14:21:04.252131",
          "exception": false,
          "start_time": "2024-01-01T14:21:04.219015",
          "status": "completed"
        },
        "tags": [],
        "id": "e6b76e45"
      },
      "outputs": [],
      "source": [
        "col_to_scale = ['area', 'bedrooms', 'bathrooms', 'stories', 'parking','price']"
      ]
    },
    {
      "cell_type": "code",
      "execution_count": null,
      "metadata": {
        "execution": {
          "iopub.execute_input": "2024-01-01T14:21:04.303364Z",
          "iopub.status.busy": "2024-01-01T14:21:04.302591Z",
          "iopub.status.idle": "2024-01-01T14:21:04.312693Z",
          "shell.execute_reply": "2024-01-01T14:21:04.311774Z"
        },
        "papermill": {
          "duration": 0.038574,
          "end_time": "2024-01-01T14:21:04.315084",
          "exception": false,
          "start_time": "2024-01-01T14:21:04.276510",
          "status": "completed"
        },
        "tags": [],
        "id": "e22c4115"
      },
      "outputs": [],
      "source": [
        "df_test[col_to_scale] = scaler.fit_transform(df_test[col_to_scale])"
      ]
    },
    {
      "cell_type": "code",
      "execution_count": null,
      "metadata": {
        "execution": {
          "iopub.execute_input": "2024-01-01T14:21:04.414860Z",
          "iopub.status.busy": "2024-01-01T14:21:04.414082Z",
          "iopub.status.idle": "2024-01-01T14:21:04.419307Z",
          "shell.execute_reply": "2024-01-01T14:21:04.418344Z"
        },
        "papermill": {
          "duration": 0.033789,
          "end_time": "2024-01-01T14:21:04.421722",
          "exception": false,
          "start_time": "2024-01-01T14:21:04.387933",
          "status": "completed"
        },
        "tags": [],
        "id": "e12feef9"
      },
      "outputs": [],
      "source": [
        "y_test = df_test.pop('price')\n",
        "x_test = df_test"
      ]
    },
    {
      "cell_type": "code",
      "execution_count": null,
      "metadata": {
        "execution": {
          "iopub.execute_input": "2024-01-01T14:21:04.473724Z",
          "iopub.status.busy": "2024-01-01T14:21:04.472755Z",
          "iopub.status.idle": "2024-01-01T14:21:04.480385Z",
          "shell.execute_reply": "2024-01-01T14:21:04.479350Z"
        },
        "papermill": {
          "duration": 0.036463,
          "end_time": "2024-01-01T14:21:04.482927",
          "exception": false,
          "start_time": "2024-01-01T14:21:04.446464",
          "status": "completed"
        },
        "tags": [],
        "id": "dacdd8d6"
      },
      "outputs": [],
      "source": [
        "prediction = linear_regression.predict(x_test)"
      ]
    },
    {
      "cell_type": "code",
      "source": [
        "r2 = r2_score(y_test, prediction)"
      ],
      "metadata": {
        "id": "Hx7BJH9kyO25"
      },
      "execution_count": null,
      "outputs": []
    },
    {
      "cell_type": "code",
      "source": [
        "from sklearn.metrics import mean_squared_error\n",
        "\n",
        "mse = mean_squared_error(y_test, prediction)"
      ],
      "metadata": {
        "id": "y4arVu95yO0O"
      },
      "execution_count": null,
      "outputs": []
    },
    {
      "cell_type": "markdown",
      "source": [
        "### Model 1 Results"
      ],
      "metadata": {
        "id": "IqWIbrV6zXAS"
      }
    },
    {
      "cell_type": "code",
      "source": [
        "mae = mean_absolute_error(y_test, prediction)\n",
        "#mse = mean_squared_error(y_test, prediction)\n",
        "lr_r2 = r2_score(y_test, prediction)\n",
        "lr_rmse = np.sqrt(mse)\n",
        "lr_mape = np.mean(np.abs((y_test - prediction) / y_test)) * 100\n",
        "\n",
        "# Print evaluation metrics\n",
        "print(\"Linear Regression Evaluation Metrics:\")\n",
        "print(\"Mean Absolute Error:\", mae)\n",
        "print(\"Mean Squared Error:\", mse)\n",
        "print(\"R-squared Score:\", lr_r2)\n",
        "print(\"Root Mean Squared Error:\", lr_rmse)\n",
        "print(\"Mean Absolute Percentage Error:\", lr_mape)"
      ],
      "metadata": {
        "id": "vP2vPMLMyOyU"
      },
      "execution_count": null,
      "outputs": []
    },
    {
      "cell_type": "markdown",
      "source": [
        "### ML Model - 2 SVM"
      ],
      "metadata": {
        "id": "dJ2tPlVmpsJ0"
      }
    },
    {
      "cell_type": "code",
      "source": [
        "# Step 3: Model Building - Support Vector Machine (SVM)\n",
        "\n",
        "# Initialize the model\n",
        "svm_model = SVR()\n",
        "\n",
        "# Train the model\n",
        "svm_model.fit(x_train, y_train)\n",
        "\n",
        "# Make predictions\n",
        "svm_pred = svm_model.predict(x_test)\n",
        "\n",
        "# Evaluate the model\n",
        "svm_mae = mean_absolute_error(y_test, svm_pred)\n",
        "svm_mse = mean_squared_error(y_test, svm_pred)\n",
        "svm_r2 = r2_score(y_test, svm_pred)\n",
        "svm_rmse = np.sqrt(svm_mse)\n",
        "svm_mape = np.mean(np.abs((y_test - svm_pred) / y_test)) * 100\n",
        "\n",
        "# Print evaluation metrics\n",
        "print(\"SVM Evaluation Metrics:\")\n",
        "print(\"Mean Absolute Error:\", svm_mae)\n",
        "print(\"Mean Squared Error:\", svm_mse)\n",
        "print(\"R-squared Score:\", svm_r2)\n",
        "print(\"Root Mean Squared Error:\", svm_rmse)\n",
        "print(\"Mean Absolute Percentage Error:\", svm_mape)\n",
        "\n",
        "# Plot predictions vs actual values\n",
        "plt.figure(figsize=(10, 6))\n",
        "# sns.scatterplot(y_test,svm_pred)\n",
        "plt.xlabel(\"Actual Price\")\n",
        "plt.ylabel(\"Predicted Price\")\n",
        "plt.title(\"SVM: Actual vs Predicted Price\")\n",
        "plt.show()\n",
        "\n",
        "\n"
      ],
      "metadata": {
        "id": "n0ZMZA-fcPaa"
      },
      "execution_count": null,
      "outputs": []
    },
    {
      "cell_type": "markdown",
      "source": [
        "### ML Model - 3 Random Forest\n",
        "\n",
        "\n"
      ],
      "metadata": {
        "id": "Fze-IPXLpx6K"
      }
    },
    {
      "cell_type": "code",
      "source": [
        "# Step 4: Model Building - Random Forest\n",
        "\n",
        "# Initialize the model\n",
        "rf_model = RandomForestRegressor(n_estimators=20,max_depth=19,random_state=1)\n",
        "\n",
        "# Train the model\n",
        "rf_model.fit(x_train, y_train)\n",
        "\n",
        "# Make predictions\n",
        "rf_pred = rf_model.predict(x_test)\n",
        "\n",
        "# Evaluate the model\n",
        "rf_mae = mean_absolute_error(y_test, rf_pred)\n",
        "rf_mse = mean_squared_error(y_test, rf_pred)\n",
        "rf_r2 = r2_score(y_test, rf_pred)\n",
        "rf_rmse = np.sqrt(rf_mse)\n",
        "rf_mape = np.mean(np.abs((y_test - rf_pred) / y_test)) * 100\n",
        "\n",
        "# Print evaluation metrics\n",
        "print(\"Random Forest Evaluation Metrics:\")\n",
        "print(\"Mean Absolute Error:\", rf_mae)\n",
        "print(\"Mean Squared Error:\", rf_mse)\n",
        "print(\"R-squared Score:\", rf_r2)\n",
        "print(\"Root Mean Squared Error:\", rf_rmse)\n",
        "print(\"Mean Absolute Percentage Error:\", rf_mape)\n",
        "\n",
        "# Plot predictions vs actual values\n",
        "plt.figure(figsize=(10, 6))\n",
        "# sns.scatterplot(y_test, rf_pred)\n",
        "plt.xlabel(\"Actual Price\")\n",
        "plt.ylabel(\"Predicted Price\")\n",
        "plt.title(\"Random Forest: Actual vs Predicted Price\")\n",
        "plt.show()"
      ],
      "metadata": {
        "id": "FFrSXAtrpx6M"
      },
      "execution_count": null,
      "outputs": []
    },
    {
      "cell_type": "markdown",
      "source": [
        "### ML Model - 4 Decision Tree\n",
        "\n",
        "\n",
        "\n",
        "\n",
        "\n",
        "\n"
      ],
      "metadata": {
        "id": "wHmIvomd3Vam"
      }
    },
    {
      "cell_type": "code",
      "source": [
        "# Step 5: Model Building - Decision Tree\n",
        "\n",
        "# Initialize the model\n",
        "dt_model = DecisionTreeRegressor(max_depth=4,random_state=42)\n",
        "\n",
        "# Train the model\n",
        "dt_model.fit(x_train, y_train)\n",
        "\n",
        "# Make predictions\n",
        "dt_pred = dt_model.predict(x_test)\n",
        "\n",
        "# Evaluate the model\n",
        "dt_mae = mean_absolute_error(y_test, dt_pred)\n",
        "dt_mse = mean_squared_error(y_test, dt_pred)\n",
        "dt_r2 = r2_score(y_test, dt_pred)\n",
        "dt_rmse = np.sqrt(dt_mse)\n",
        "dt_mape = np.mean(np.abs((y_test - dt_pred) / y_test)) * 100\n",
        "\n",
        "# Print evaluation metrics\n",
        "print(\"Decision Tree Evaluation Metrics:\")\n",
        "print(\"Mean Absolute Error:\", dt_mae)\n",
        "print(\"Mean Squared Error:\", dt_mse)\n",
        "print(\"R-squared Score:\", dt_r2)\n",
        "print(\"Root Mean Squared Error:\", dt_rmse)\n",
        "print(\"Mean Absolute Percentage Error:\", dt_mape)\n",
        "\n",
        "# Plot predictions vs actual values\n",
        "plt.figure(figsize=(10, 6))\n",
        "#sns.scatterplot(y_test, dt_pred)\n",
        "plt.xlabel(\"Actual Price\")\n",
        "plt.ylabel(\"Predicted Price\")\n",
        "plt.title(\"Decision Tree: Actual vs Predicted Price\")\n",
        "plt.show()"
      ],
      "metadata": {
        "id": "WluNlDV-2i1f"
      },
      "execution_count": null,
      "outputs": []
    },
    {
      "cell_type": "markdown",
      "source": [
        "### 1. Which Evaluation metrics did you consider for a positive business impact and why?"
      ],
      "metadata": {
        "id": "h_CCil-SKHpo"
      }
    },
    {
      "cell_type": "markdown",
      "source": [
        "Answer Here."
      ],
      "metadata": {
        "id": "jHVz9hHDKFms"
      }
    },
    {
      "cell_type": "markdown",
      "source": [
        "### 2. Which ML model did you choose from the above created models as your final prediction model and why?"
      ],
      "metadata": {
        "id": "cBFFvTBNJzUa"
      }
    },
    {
      "cell_type": "markdown",
      "source": [
        "Answer Here."
      ],
      "metadata": {
        "id": "6ksF5Q1LKTVm"
      }
    },
    {
      "cell_type": "markdown",
      "source": [
        "### 3. Explain the model which you have used and the feature importance using any model explainability tool?"
      ],
      "metadata": {
        "id": "HvGl1hHyA_VK"
      }
    },
    {
      "cell_type": "markdown",
      "source": [
        "Answer Here."
      ],
      "metadata": {
        "id": "YnvVTiIxBL-C"
      }
    },
    {
      "cell_type": "markdown",
      "source": [
        "## ***8.*** ***Future Work (Optional)***"
      ],
      "metadata": {
        "id": "EyNgTHvd2WFk"
      }
    },
    {
      "cell_type": "markdown",
      "source": [
        "### 1. Save the best performing ml model in a pickle file or joblib file format for deployment process.\n"
      ],
      "metadata": {
        "id": "KH5McJBi2d8v"
      }
    },
    {
      "cell_type": "code",
      "source": [
        "# Save the File"
      ],
      "metadata": {
        "id": "bQIANRl32f4J"
      },
      "execution_count": null,
      "outputs": []
    },
    {
      "cell_type": "markdown",
      "source": [
        "### 2. Again Load the saved model file and try to predict unseen data for a sanity check.\n"
      ],
      "metadata": {
        "id": "iW_Lq9qf2h6X"
      }
    },
    {
      "cell_type": "code",
      "source": [
        "# Load the File and predict unseen data."
      ],
      "metadata": {
        "id": "oEXk9ydD2nVC"
      },
      "execution_count": null,
      "outputs": []
    },
    {
      "cell_type": "markdown",
      "source": [
        "### ***Congrats! Your model is successfully created and ready for deployment on a live server for a real user interaction !!!***"
      ],
      "metadata": {
        "id": "-Kee-DAl2viO"
      }
    },
    {
      "cell_type": "markdown",
      "source": [
        "# **Conclusion**"
      ],
      "metadata": {
        "id": "gCX9965dhzqZ"
      }
    },
    {
      "cell_type": "markdown",
      "source": [
        "Write the conclusion here."
      ],
      "metadata": {
        "id": "Fjb1IsQkh3yE"
      }
    },
    {
      "cell_type": "markdown",
      "source": [
        "### ***Hurrah! You have successfully completed your Machine Learning Capstone Project !!!***"
      ],
      "metadata": {
        "id": "gIfDvo9L0UH2"
      }
    }
  ]
}